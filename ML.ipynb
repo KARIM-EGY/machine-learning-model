{
 "cells": [
  {
   "cell_type": "code",
   "execution_count": 1,
   "id": "e6fff9d1-118f-4ef3-ab0c-c01549e396f8",
   "metadata": {},
   "outputs": [],
   "source": [
    "import pandas as pd\n",
    "import numpy as np\n",
    "import matplotlib.pyplot as plt\n",
    "from sklearn.preprocessing import StandardScaler\n",
    "from imblearn.over_sampling import RandomOverSampler\n",
    "from sklearn.metrics import classification_report\n",
    "import tensorflow as tf\n",
    "from tensorflow.keras import layers, models"
   ]
  },
  {
   "cell_type": "code",
   "execution_count": 2,
   "id": "b5cf90d3-3a6a-40cc-8166-e0b376a3c780",
   "metadata": {},
   "outputs": [
    {
     "data": {
      "text/html": [
       "<div>\n",
       "<style scoped>\n",
       "    .dataframe tbody tr th:only-of-type {\n",
       "        vertical-align: middle;\n",
       "    }\n",
       "\n",
       "    .dataframe tbody tr th {\n",
       "        vertical-align: top;\n",
       "    }\n",
       "\n",
       "    .dataframe thead th {\n",
       "        text-align: right;\n",
       "    }\n",
       "</style>\n",
       "<table border=\"1\" class=\"dataframe\">\n",
       "  <thead>\n",
       "    <tr style=\"text-align: right;\">\n",
       "      <th></th>\n",
       "      <th>fLength</th>\n",
       "      <th>fWidth</th>\n",
       "      <th>fSize</th>\n",
       "      <th>fConc</th>\n",
       "      <th>fConc1</th>\n",
       "      <th>fAsym</th>\n",
       "      <th>fM3Long</th>\n",
       "      <th>fM3Trans</th>\n",
       "      <th>fAlpha</th>\n",
       "      <th>fDist</th>\n",
       "      <th>class</th>\n",
       "    </tr>\n",
       "  </thead>\n",
       "  <tbody>\n",
       "    <tr>\n",
       "      <th>0</th>\n",
       "      <td>28.7967</td>\n",
       "      <td>16.0021</td>\n",
       "      <td>2.6449</td>\n",
       "      <td>0.3918</td>\n",
       "      <td>0.1982</td>\n",
       "      <td>27.7004</td>\n",
       "      <td>22.0110</td>\n",
       "      <td>-8.2027</td>\n",
       "      <td>40.0920</td>\n",
       "      <td>81.8828</td>\n",
       "      <td>1</td>\n",
       "    </tr>\n",
       "    <tr>\n",
       "      <th>1</th>\n",
       "      <td>31.6036</td>\n",
       "      <td>11.7235</td>\n",
       "      <td>2.5185</td>\n",
       "      <td>0.5303</td>\n",
       "      <td>0.3773</td>\n",
       "      <td>26.2722</td>\n",
       "      <td>23.8238</td>\n",
       "      <td>-9.9574</td>\n",
       "      <td>6.3609</td>\n",
       "      <td>205.2610</td>\n",
       "      <td>1</td>\n",
       "    </tr>\n",
       "    <tr>\n",
       "      <th>2</th>\n",
       "      <td>162.0520</td>\n",
       "      <td>136.0310</td>\n",
       "      <td>4.0612</td>\n",
       "      <td>0.0374</td>\n",
       "      <td>0.0187</td>\n",
       "      <td>116.7410</td>\n",
       "      <td>-64.8580</td>\n",
       "      <td>-45.2160</td>\n",
       "      <td>76.9600</td>\n",
       "      <td>256.7880</td>\n",
       "      <td>1</td>\n",
       "    </tr>\n",
       "    <tr>\n",
       "      <th>3</th>\n",
       "      <td>23.8172</td>\n",
       "      <td>9.5728</td>\n",
       "      <td>2.3385</td>\n",
       "      <td>0.6147</td>\n",
       "      <td>0.3922</td>\n",
       "      <td>27.2107</td>\n",
       "      <td>-6.4633</td>\n",
       "      <td>-7.1513</td>\n",
       "      <td>10.4490</td>\n",
       "      <td>116.7370</td>\n",
       "      <td>1</td>\n",
       "    </tr>\n",
       "    <tr>\n",
       "      <th>4</th>\n",
       "      <td>75.1362</td>\n",
       "      <td>30.9205</td>\n",
       "      <td>3.1611</td>\n",
       "      <td>0.3168</td>\n",
       "      <td>0.1832</td>\n",
       "      <td>-5.5277</td>\n",
       "      <td>28.5525</td>\n",
       "      <td>21.8393</td>\n",
       "      <td>4.6480</td>\n",
       "      <td>356.4620</td>\n",
       "      <td>1</td>\n",
       "    </tr>\n",
       "  </tbody>\n",
       "</table>\n",
       "</div>"
      ],
      "text/plain": [
       "    fLength    fWidth   fSize   fConc  fConc1     fAsym  fM3Long  fM3Trans  \\\n",
       "0   28.7967   16.0021  2.6449  0.3918  0.1982   27.7004  22.0110   -8.2027   \n",
       "1   31.6036   11.7235  2.5185  0.5303  0.3773   26.2722  23.8238   -9.9574   \n",
       "2  162.0520  136.0310  4.0612  0.0374  0.0187  116.7410 -64.8580  -45.2160   \n",
       "3   23.8172    9.5728  2.3385  0.6147  0.3922   27.2107  -6.4633   -7.1513   \n",
       "4   75.1362   30.9205  3.1611  0.3168  0.1832   -5.5277  28.5525   21.8393   \n",
       "\n",
       "    fAlpha     fDist  class  \n",
       "0  40.0920   81.8828      1  \n",
       "1   6.3609  205.2610      1  \n",
       "2  76.9600  256.7880      1  \n",
       "3  10.4490  116.7370      1  \n",
       "4   4.6480  356.4620      1  "
      ]
     },
     "execution_count": 2,
     "metadata": {},
     "output_type": "execute_result"
    }
   ],
   "source": [
    "cols = ['fLength','fWidth','fSize','fConc','fConc1','fAsym','fM3Long','fM3Trans','fAlpha','fDist','class'] # set a name for the columns\n",
    "df=pd.read_csv('magic04.data',names = cols)\n",
    "df['class'] = (df['class'] == 'g').astype(int)\n",
    "df.head()"
   ]
  },
  {
   "cell_type": "code",
   "execution_count": 3,
   "id": "ae0e7f7a-b791-4884-aa81-ed49ffd9964b",
   "metadata": {},
   "outputs": [
    {
     "name": "stderr",
     "output_type": "stream",
     "text": [
      "C:\\ProgramData\\anaconda3\\Lib\\site-packages\\numpy\\core\\fromnumeric.py:59: FutureWarning: 'DataFrame.swapaxes' is deprecated and will be removed in a future version. Please use 'DataFrame.transpose' instead.\n",
      "  return bound(*args, **kwds)\n"
     ]
    }
   ],
   "source": [
    "train , valid , test = np.split(df.sample(frac = 1) , [int(0.6*len(df)), int(0.8*len(df))]) #splitting the data "
   ]
  },
  {
   "cell_type": "code",
   "execution_count": 4,
   "id": "43ba6e25-7a0c-4924-82cd-efb22adffbc7",
   "metadata": {},
   "outputs": [],
   "source": [
    "def scale_dataset(dataframe, oversample = False) :\n",
    "    x = dataframe[dataframe.columns[:-1]].values \n",
    "    y = dataframe[dataframe.columns[-1]].values \n",
    "    if oversample : #just to keep sampling from the lower data to be equal\n",
    "        ros = RandomOverSampler()\n",
    "        x,y = ros.fit_resample(x,y)\n",
    "    scaler = StandardScaler()\n",
    "    x= scaler.fit_transform(x) # standrdization the numbers\n",
    "    data = np.hstack((x , np.reshape(y,(-1,1)))) #stacking the data to be X agianst Y\n",
    "    return data , x , y"
   ]
  },
  {
   "cell_type": "code",
   "execution_count": 5,
   "id": "64fc336d-daeb-44a3-88b6-5f85cb9c78e3",
   "metadata": {},
   "outputs": [],
   "source": [
    "train , x_train , y_train = scale_dataset(train, oversample = True)\n",
    "valid , x_valid , y_valid = scale_dataset(valid, oversample = False)\n",
    "test , x_test , y_test = scale_dataset(test, oversample = False)"
   ]
  },
  {
   "cell_type": "markdown",
   "id": "fdbf50a8-3334-43b8-9cb9-22639d16b16c",
   "metadata": {},
   "source": [
    "## KNN Model"
   ]
  },
  {
   "cell_type": "code",
   "execution_count": 6,
   "id": "8b3c6be7-ebb1-4611-9d92-f376849f0766",
   "metadata": {},
   "outputs": [
    {
     "name": "stdout",
     "output_type": "stream",
     "text": [
      "              precision    recall  f1-score   support\n",
      "\n",
      "           0       0.72      0.72      0.72      1347\n",
      "           1       0.85      0.84      0.85      2457\n",
      "\n",
      "    accuracy                           0.80      3804\n",
      "   macro avg       0.78      0.78      0.78      3804\n",
      "weighted avg       0.80      0.80      0.80      3804\n",
      "\n"
     ]
    }
   ],
   "source": [
    "from sklearn.neighbors import KNeighborsClassifier\n",
    "# Train the model\n",
    "knn_model = KNeighborsClassifier(n_neighbors = 1)\n",
    "knn_model.fit(x_train , y_train)\n",
    "# Predicts\n",
    "y_predict = knn_model.predict(x_test)\n",
    "print(classification_report(y_test, y_predict))"
   ]
  },
  {
   "cell_type": "markdown",
   "id": "a6573818-d67b-4cd7-85ad-e820e86a400c",
   "metadata": {},
   "source": [
    "## Gaussian"
   ]
  },
  {
   "cell_type": "code",
   "execution_count": 7,
   "id": "449b02b9-abfe-42e5-83b8-5eb6d04f104d",
   "metadata": {},
   "outputs": [
    {
     "name": "stdout",
     "output_type": "stream",
     "text": [
      "              precision    recall  f1-score   support\n",
      "\n",
      "           0       0.60      0.46      0.52      1347\n",
      "           1       0.74      0.83      0.78      2457\n",
      "\n",
      "    accuracy                           0.70      3804\n",
      "   macro avg       0.67      0.65      0.65      3804\n",
      "weighted avg       0.69      0.70      0.69      3804\n",
      "\n"
     ]
    }
   ],
   "source": [
    "from sklearn.naive_bayes import GaussianNB\n",
    "bayen_model = GaussianNB()\n",
    "bayen_model.fit(x_train , y_train)\n",
    "y_predict = bayen_model.predict(x_test)\n",
    "print(classification_report(y_test, y_predict))"
   ]
  },
  {
   "cell_type": "markdown",
   "id": "0044e0eb-afed-4f6c-a1c3-38f8eeecd9b3",
   "metadata": {},
   "source": [
    "## Liner Regression"
   ]
  },
  {
   "cell_type": "code",
   "execution_count": 8,
   "id": "867e99b8-2ef0-422b-b6ad-d514e52f8725",
   "metadata": {},
   "outputs": [
    {
     "name": "stdout",
     "output_type": "stream",
     "text": [
      "              precision    recall  f1-score   support\n",
      "\n",
      "           0       0.63      0.77      0.70      1347\n",
      "           1       0.86      0.75      0.80      2457\n",
      "\n",
      "    accuracy                           0.76      3804\n",
      "   macro avg       0.75      0.76      0.75      3804\n",
      "weighted avg       0.78      0.76      0.76      3804\n",
      "\n"
     ]
    }
   ],
   "source": [
    "from sklearn.linear_model import LogisticRegression\n",
    "lg_model = LogisticRegression()\n",
    "lg_model.fit(x_train,y_train)\n",
    "y_predict = lg_model.predict(x_test)\n",
    "print(classification_report(y_test,y_predict))"
   ]
  },
  {
   "cell_type": "markdown",
   "id": "2eb6e00e-3ccd-43f4-bede-6585c9db3703",
   "metadata": {},
   "source": [
    "## SVM"
   ]
  },
  {
   "cell_type": "code",
   "execution_count": 9,
   "id": "56127535-adf1-4560-aceb-cdf06aeb2746",
   "metadata": {},
   "outputs": [
    {
     "name": "stdout",
     "output_type": "stream",
     "text": [
      "              precision    recall  f1-score   support\n",
      "\n",
      "           0       0.74      0.85      0.79      1347\n",
      "           1       0.91      0.84      0.87      2457\n",
      "\n",
      "    accuracy                           0.84      3804\n",
      "   macro avg       0.82      0.84      0.83      3804\n",
      "weighted avg       0.85      0.84      0.84      3804\n",
      "\n"
     ]
    }
   ],
   "source": [
    "from sklearn.svm import SVC\n",
    "svm_model = SVC()\n",
    "svm_model.fit(x_train,y_train)\n",
    "y_predict = svm_model.predict(x_test)\n",
    "print(classification_report(y_test,y_predict))"
   ]
  },
  {
   "cell_type": "code",
   "execution_count": 10,
   "id": "89e2feb0-7fe6-4c42-a6c7-e4b467110493",
   "metadata": {},
   "outputs": [
    {
     "name": "stdout",
     "output_type": "stream",
     "text": [
      "Epoch 1/50\n",
      "\u001b[1m464/464\u001b[0m \u001b[32m━━━━━━━━━━━━━━━━━━━━\u001b[0m\u001b[37m\u001b[0m \u001b[1m11s\u001b[0m 8ms/step - accuracy: 0.6616 - loss: 0.9429 - val_accuracy: 0.8212 - val_loss: 0.4337\n",
      "Epoch 2/50\n",
      "\u001b[1m464/464\u001b[0m \u001b[32m━━━━━━━━━━━━━━━━━━━━\u001b[0m\u001b[37m\u001b[0m \u001b[1m3s\u001b[0m 6ms/step - accuracy: 0.8037 - loss: 0.4255 - val_accuracy: 0.8273 - val_loss: 0.4346\n",
      "Epoch 3/50\n",
      "\u001b[1m464/464\u001b[0m \u001b[32m━━━━━━━━━━━━━━━━━━━━\u001b[0m\u001b[37m\u001b[0m \u001b[1m7s\u001b[0m 9ms/step - accuracy: 0.8199 - loss: 0.3997 - val_accuracy: 0.8252 - val_loss: 0.4206\n",
      "Epoch 4/50\n",
      "\u001b[1m464/464\u001b[0m \u001b[32m━━━━━━━━━━━━━━━━━━━━\u001b[0m\u001b[37m\u001b[0m \u001b[1m9s\u001b[0m 14ms/step - accuracy: 0.8328 - loss: 0.3756 - val_accuracy: 0.8260 - val_loss: 0.4119\n",
      "Epoch 5/50\n",
      "\u001b[1m464/464\u001b[0m \u001b[32m━━━━━━━━━━━━━━━━━━━━\u001b[0m\u001b[37m\u001b[0m \u001b[1m9s\u001b[0m 10ms/step - accuracy: 0.8400 - loss: 0.3668 - val_accuracy: 0.8417 - val_loss: 0.3974\n",
      "Epoch 6/50\n",
      "\u001b[1m464/464\u001b[0m \u001b[32m━━━━━━━━━━━━━━━━━━━━\u001b[0m\u001b[37m\u001b[0m \u001b[1m6s\u001b[0m 12ms/step - accuracy: 0.8364 - loss: 0.3649 - val_accuracy: 0.8525 - val_loss: 0.3827\n",
      "Epoch 7/50\n",
      "\u001b[1m464/464\u001b[0m \u001b[32m━━━━━━━━━━━━━━━━━━━━\u001b[0m\u001b[37m\u001b[0m \u001b[1m3s\u001b[0m 6ms/step - accuracy: 0.8346 - loss: 0.3648 - val_accuracy: 0.8147 - val_loss: 0.4255\n",
      "Epoch 8/50\n",
      "\u001b[1m464/464\u001b[0m \u001b[32m━━━━━━━━━━━━━━━━━━━━\u001b[0m\u001b[37m\u001b[0m \u001b[1m6s\u001b[0m 8ms/step - accuracy: 0.8390 - loss: 0.3627 - val_accuracy: 0.8407 - val_loss: 0.4003\n",
      "Epoch 9/50\n",
      "\u001b[1m464/464\u001b[0m \u001b[32m━━━━━━━━━━━━━━━━━━━━\u001b[0m\u001b[37m\u001b[0m \u001b[1m5s\u001b[0m 8ms/step - accuracy: 0.8424 - loss: 0.3600 - val_accuracy: 0.8262 - val_loss: 0.4121\n",
      "Epoch 10/50\n",
      "\u001b[1m464/464\u001b[0m \u001b[32m━━━━━━━━━━━━━━━━━━━━\u001b[0m\u001b[37m\u001b[0m \u001b[1m5s\u001b[0m 6ms/step - accuracy: 0.8379 - loss: 0.3585 - val_accuracy: 0.8268 - val_loss: 0.4017\n",
      "Epoch 11/50\n",
      "\u001b[1m464/464\u001b[0m \u001b[32m━━━━━━━━━━━━━━━━━━━━\u001b[0m\u001b[37m\u001b[0m \u001b[1m5s\u001b[0m 6ms/step - accuracy: 0.8441 - loss: 0.3474 - val_accuracy: 0.8365 - val_loss: 0.4025\n",
      "Epoch 12/50\n",
      "\u001b[1m464/464\u001b[0m \u001b[32m━━━━━━━━━━━━━━━━━━━━\u001b[0m\u001b[37m\u001b[0m \u001b[1m6s\u001b[0m 7ms/step - accuracy: 0.8422 - loss: 0.3517 - val_accuracy: 0.8339 - val_loss: 0.4014\n",
      "Epoch 13/50\n",
      "\u001b[1m464/464\u001b[0m \u001b[32m━━━━━━━━━━━━━━━━━━━━\u001b[0m\u001b[37m\u001b[0m \u001b[1m5s\u001b[0m 6ms/step - accuracy: 0.8445 - loss: 0.3456 - val_accuracy: 0.8147 - val_loss: 0.4363\n",
      "Epoch 14/50\n",
      "\u001b[1m464/464\u001b[0m \u001b[32m━━━━━━━━━━━━━━━━━━━━\u001b[0m\u001b[37m\u001b[0m \u001b[1m6s\u001b[0m 8ms/step - accuracy: 0.8443 - loss: 0.3490 - val_accuracy: 0.8373 - val_loss: 0.3978\n",
      "Epoch 15/50\n",
      "\u001b[1m464/464\u001b[0m \u001b[32m━━━━━━━━━━━━━━━━━━━━\u001b[0m\u001b[37m\u001b[0m \u001b[1m4s\u001b[0m 6ms/step - accuracy: 0.8480 - loss: 0.3419 - val_accuracy: 0.8404 - val_loss: 0.3964\n",
      "Epoch 16/50\n",
      "\u001b[1m464/464\u001b[0m \u001b[32m━━━━━━━━━━━━━━━━━━━━\u001b[0m\u001b[37m\u001b[0m \u001b[1m6s\u001b[0m 7ms/step - accuracy: 0.8520 - loss: 0.3445 - val_accuracy: 0.8344 - val_loss: 0.3982\n",
      "Epoch 17/50\n",
      "\u001b[1m464/464\u001b[0m \u001b[32m━━━━━━━━━━━━━━━━━━━━\u001b[0m\u001b[37m\u001b[0m \u001b[1m5s\u001b[0m 6ms/step - accuracy: 0.8455 - loss: 0.3474 - val_accuracy: 0.8381 - val_loss: 0.3890\n",
      "Epoch 18/50\n",
      "\u001b[1m464/464\u001b[0m \u001b[32m━━━━━━━━━━━━━━━━━━━━\u001b[0m\u001b[37m\u001b[0m \u001b[1m6s\u001b[0m 7ms/step - accuracy: 0.8504 - loss: 0.3404 - val_accuracy: 0.8362 - val_loss: 0.3935\n",
      "Epoch 19/50\n",
      "\u001b[1m464/464\u001b[0m \u001b[32m━━━━━━━━━━━━━━━━━━━━\u001b[0m\u001b[37m\u001b[0m \u001b[1m6s\u001b[0m 7ms/step - accuracy: 0.8572 - loss: 0.3299 - val_accuracy: 0.8454 - val_loss: 0.3699\n",
      "Epoch 20/50\n",
      "\u001b[1m464/464\u001b[0m \u001b[32m━━━━━━━━━━━━━━━━━━━━\u001b[0m\u001b[37m\u001b[0m \u001b[1m6s\u001b[0m 9ms/step - accuracy: 0.8450 - loss: 0.3443 - val_accuracy: 0.8431 - val_loss: 0.3783\n",
      "Epoch 21/50\n",
      "\u001b[1m464/464\u001b[0m \u001b[32m━━━━━━━━━━━━━━━━━━━━\u001b[0m\u001b[37m\u001b[0m \u001b[1m5s\u001b[0m 6ms/step - accuracy: 0.8481 - loss: 0.3451 - val_accuracy: 0.8368 - val_loss: 0.3851\n",
      "Epoch 22/50\n",
      "\u001b[1m464/464\u001b[0m \u001b[32m━━━━━━━━━━━━━━━━━━━━\u001b[0m\u001b[37m\u001b[0m \u001b[1m6s\u001b[0m 8ms/step - accuracy: 0.8411 - loss: 0.3502 - val_accuracy: 0.8252 - val_loss: 0.4048\n",
      "Epoch 23/50\n",
      "\u001b[1m464/464\u001b[0m \u001b[32m━━━━━━━━━━━━━━━━━━━━\u001b[0m\u001b[37m\u001b[0m \u001b[1m5s\u001b[0m 7ms/step - accuracy: 0.8505 - loss: 0.3359 - val_accuracy: 0.8410 - val_loss: 0.3815\n",
      "Epoch 24/50\n",
      "\u001b[1m464/464\u001b[0m \u001b[32m━━━━━━━━━━━━━━━━━━━━\u001b[0m\u001b[37m\u001b[0m \u001b[1m5s\u001b[0m 7ms/step - accuracy: 0.8503 - loss: 0.3391 - val_accuracy: 0.8212 - val_loss: 0.4146\n",
      "Epoch 25/50\n",
      "\u001b[1m464/464\u001b[0m \u001b[32m━━━━━━━━━━━━━━━━━━━━\u001b[0m\u001b[37m\u001b[0m \u001b[1m6s\u001b[0m 8ms/step - accuracy: 0.8524 - loss: 0.3353 - val_accuracy: 0.8460 - val_loss: 0.3692\n",
      "Epoch 26/50\n",
      "\u001b[1m464/464\u001b[0m \u001b[32m━━━━━━━━━━━━━━━━━━━━\u001b[0m\u001b[37m\u001b[0m \u001b[1m5s\u001b[0m 8ms/step - accuracy: 0.8538 - loss: 0.3366 - val_accuracy: 0.8283 - val_loss: 0.4091\n",
      "Epoch 27/50\n",
      "\u001b[1m464/464\u001b[0m \u001b[32m━━━━━━━━━━━━━━━━━━━━\u001b[0m\u001b[37m\u001b[0m \u001b[1m6s\u001b[0m 8ms/step - accuracy: 0.8572 - loss: 0.3301 - val_accuracy: 0.8391 - val_loss: 0.3843\n",
      "Epoch 28/50\n",
      "\u001b[1m464/464\u001b[0m \u001b[32m━━━━━━━━━━━━━━━━━━━━\u001b[0m\u001b[37m\u001b[0m \u001b[1m4s\u001b[0m 8ms/step - accuracy: 0.8507 - loss: 0.3346 - val_accuracy: 0.8220 - val_loss: 0.4133\n",
      "Epoch 29/50\n",
      "\u001b[1m464/464\u001b[0m \u001b[32m━━━━━━━━━━━━━━━━━━━━\u001b[0m\u001b[37m\u001b[0m \u001b[1m5s\u001b[0m 7ms/step - accuracy: 0.8516 - loss: 0.3327 - val_accuracy: 0.8297 - val_loss: 0.3994\n",
      "Epoch 30/50\n",
      "\u001b[1m464/464\u001b[0m \u001b[32m━━━━━━━━━━━━━━━━━━━━\u001b[0m\u001b[37m\u001b[0m \u001b[1m5s\u001b[0m 7ms/step - accuracy: 0.8569 - loss: 0.3293 - val_accuracy: 0.8294 - val_loss: 0.4022\n",
      "Epoch 31/50\n",
      "\u001b[1m464/464\u001b[0m \u001b[32m━━━━━━━━━━━━━━━━━━━━\u001b[0m\u001b[37m\u001b[0m \u001b[1m6s\u001b[0m 8ms/step - accuracy: 0.8507 - loss: 0.3367 - val_accuracy: 0.8383 - val_loss: 0.3752\n",
      "Epoch 32/50\n",
      "\u001b[1m464/464\u001b[0m \u001b[32m━━━━━━━━━━━━━━━━━━━━\u001b[0m\u001b[37m\u001b[0m \u001b[1m6s\u001b[0m 10ms/step - accuracy: 0.8577 - loss: 0.3310 - val_accuracy: 0.8289 - val_loss: 0.3947\n",
      "Epoch 33/50\n",
      "\u001b[1m464/464\u001b[0m \u001b[32m━━━━━━━━━━━━━━━━━━━━\u001b[0m\u001b[37m\u001b[0m \u001b[1m5s\u001b[0m 9ms/step - accuracy: 0.8516 - loss: 0.3339 - val_accuracy: 0.8465 - val_loss: 0.3662\n",
      "Epoch 34/50\n",
      "\u001b[1m464/464\u001b[0m \u001b[32m━━━━━━━━━━━━━━━━━━━━\u001b[0m\u001b[37m\u001b[0m \u001b[1m5s\u001b[0m 8ms/step - accuracy: 0.8547 - loss: 0.3344 - val_accuracy: 0.8331 - val_loss: 0.3843\n",
      "Epoch 35/50\n",
      "\u001b[1m464/464\u001b[0m \u001b[32m━━━━━━━━━━━━━━━━━━━━\u001b[0m\u001b[37m\u001b[0m \u001b[1m6s\u001b[0m 9ms/step - accuracy: 0.8545 - loss: 0.3310 - val_accuracy: 0.8423 - val_loss: 0.3735\n",
      "Epoch 36/50\n",
      "\u001b[1m464/464\u001b[0m \u001b[32m━━━━━━━━━━━━━━━━━━━━\u001b[0m\u001b[37m\u001b[0m \u001b[1m6s\u001b[0m 9ms/step - accuracy: 0.8514 - loss: 0.3348 - val_accuracy: 0.8391 - val_loss: 0.3756\n",
      "Epoch 37/50\n",
      "\u001b[1m464/464\u001b[0m \u001b[32m━━━━━━━━━━━━━━━━━━━━\u001b[0m\u001b[37m\u001b[0m \u001b[1m6s\u001b[0m 10ms/step - accuracy: 0.8530 - loss: 0.3311 - val_accuracy: 0.8415 - val_loss: 0.3704\n",
      "Epoch 38/50\n",
      "\u001b[1m464/464\u001b[0m \u001b[32m━━━━━━━━━━━━━━━━━━━━\u001b[0m\u001b[37m\u001b[0m \u001b[1m5s\u001b[0m 9ms/step - accuracy: 0.8524 - loss: 0.3333 - val_accuracy: 0.8475 - val_loss: 0.3699\n",
      "Epoch 39/50\n",
      "\u001b[1m464/464\u001b[0m \u001b[32m━━━━━━━━━━━━━━━━━━━━\u001b[0m\u001b[37m\u001b[0m \u001b[1m6s\u001b[0m 10ms/step - accuracy: 0.8631 - loss: 0.3196 - val_accuracy: 0.8275 - val_loss: 0.4011\n",
      "Epoch 40/50\n",
      "\u001b[1m464/464\u001b[0m \u001b[32m━━━━━━━━━━━━━━━━━━━━\u001b[0m\u001b[37m\u001b[0m \u001b[1m5s\u001b[0m 9ms/step - accuracy: 0.8540 - loss: 0.3341 - val_accuracy: 0.8394 - val_loss: 0.3760\n",
      "Epoch 41/50\n",
      "\u001b[1m464/464\u001b[0m \u001b[32m━━━━━━━━━━━━━━━━━━━━\u001b[0m\u001b[37m\u001b[0m \u001b[1m6s\u001b[0m 10ms/step - accuracy: 0.8504 - loss: 0.3359 - val_accuracy: 0.8454 - val_loss: 0.3693\n",
      "Epoch 42/50\n",
      "\u001b[1m464/464\u001b[0m \u001b[32m━━━━━━━━━━━━━━━━━━━━\u001b[0m\u001b[37m\u001b[0m \u001b[1m6s\u001b[0m 10ms/step - accuracy: 0.8597 - loss: 0.3249 - val_accuracy: 0.8381 - val_loss: 0.3787\n",
      "Epoch 43/50\n",
      "\u001b[1m464/464\u001b[0m \u001b[32m━━━━━━━━━━━━━━━━━━━━\u001b[0m\u001b[37m\u001b[0m \u001b[1m6s\u001b[0m 10ms/step - accuracy: 0.8505 - loss: 0.3317 - val_accuracy: 0.8320 - val_loss: 0.3972\n",
      "Epoch 44/50\n",
      "\u001b[1m464/464\u001b[0m \u001b[32m━━━━━━━━━━━━━━━━━━━━\u001b[0m\u001b[37m\u001b[0m \u001b[1m6s\u001b[0m 11ms/step - accuracy: 0.8534 - loss: 0.3299 - val_accuracy: 0.8341 - val_loss: 0.3956\n",
      "Epoch 45/50\n",
      "\u001b[1m464/464\u001b[0m \u001b[32m━━━━━━━━━━━━━━━━━━━━\u001b[0m\u001b[37m\u001b[0m \u001b[1m5s\u001b[0m 10ms/step - accuracy: 0.8572 - loss: 0.3220 - val_accuracy: 0.8265 - val_loss: 0.4012\n",
      "Epoch 46/50\n",
      "\u001b[1m464/464\u001b[0m \u001b[32m━━━━━━━━━━━━━━━━━━━━\u001b[0m\u001b[37m\u001b[0m \u001b[1m6s\u001b[0m 11ms/step - accuracy: 0.8540 - loss: 0.3323 - val_accuracy: 0.8446 - val_loss: 0.3749\n",
      "Epoch 47/50\n",
      "\u001b[1m464/464\u001b[0m \u001b[32m━━━━━━━━━━━━━━━━━━━━\u001b[0m\u001b[37m\u001b[0m \u001b[1m5s\u001b[0m 9ms/step - accuracy: 0.8482 - loss: 0.3335 - val_accuracy: 0.8473 - val_loss: 0.3695\n",
      "Epoch 48/50\n",
      "\u001b[1m464/464\u001b[0m \u001b[32m━━━━━━━━━━━━━━━━━━━━\u001b[0m\u001b[37m\u001b[0m \u001b[1m6s\u001b[0m 11ms/step - accuracy: 0.8595 - loss: 0.3184 - val_accuracy: 0.8260 - val_loss: 0.3967\n",
      "Epoch 49/50\n",
      "\u001b[1m464/464\u001b[0m \u001b[32m━━━━━━━━━━━━━━━━━━━━\u001b[0m\u001b[37m\u001b[0m \u001b[1m5s\u001b[0m 10ms/step - accuracy: 0.8620 - loss: 0.3212 - val_accuracy: 0.8302 - val_loss: 0.3879\n",
      "Epoch 50/50\n",
      "\u001b[1m464/464\u001b[0m \u001b[32m━━━━━━━━━━━━━━━━━━━━\u001b[0m\u001b[37m\u001b[0m \u001b[1m7s\u001b[0m 12ms/step - accuracy: 0.8593 - loss: 0.3252 - val_accuracy: 0.8341 - val_loss: 0.3858\n",
      "\n",
      "Test accuracy: 0.8341220021247864\n"
     ]
    },
    {
     "data": {
      "image/png": "[encoded data removed]",
      "text/plain": [
       "<Figure size 640x480 with 1 Axes>"
      ]
     },
     "metadata": {},
     "output_type": "display_data"
    }
   ],
   "source": [
    "\n",
    "model = models.Sequential([\n",
    "    layers.Dense(128, activation='relu'),      # First hidden layer with 128 neurons and ReLU activation\n",
    "    layers.Dropout(0.2),                       # Dropout layer to prevent overfitting\n",
    "    layers.Dense(10, activation='softmax')     # Output layer with 10 neurons (one for each class) and softmax activation\n",
    "])\n",
    "\n",
    "# Compile the model\n",
    "model.compile(optimizer='adam',\n",
    "              loss='sparse_categorical_crossentropy',\n",
    "              metrics=['accuracy'])\n",
    "\n",
    "# Train the model\n",
    "history = model.fit(x_train, y_train, epochs=50, validation_data=(x_test, y_test))\n",
    "\n",
    "# Evaluate the model\n",
    "test_loss, test_acc = model.evaluate(x_test, y_test, verbose=0)\n",
    "print('\\nTest accuracy:', test_acc)\n",
    "\n",
    "# Plot the training and validation accuracy\n",
    "plt.plot(history.history['accuracy'], label='accuracy')\n",
    "plt.plot(history.history['val_accuracy'], label = 'val_accuracy')\n",
    "plt.xlabel('Epoch')\n",
    "plt.ylabel('Accuracy')\n",
    "plt.ylim([0.5, 1])\n",
    "plt.legend(loc='lower right')\n",
    "plt.show()"
   ]
  },
  {
   "cell_type": "code",
   "execution_count": null,
   "id": "d18727cc-56ce-4df2-a968-5774cc455a1f",
   "metadata": {},
   "outputs": [],
   "source": []
  }
 ],
 "metadata": {
  "kernelspec": {
   "display_name": "Python 3 (ipykernel)",
   "language": "python",
   "name": "python3"
  },
  "language_info": {
   "codemirror_mode": {
    "name": "ipython",
    "version": 3
   },
   "file_extension": ".py",
   "mimetype": "text/x-python",
   "name": "python",
   "nbconvert_exporter": "python",
   "pygments_lexer": "ipython3",
   "version": "3.11.7"
  }
 },
 "nbformat": 4,
 "nbformat_minor": 5
}
